{
 "cells": [
  {
   "cell_type": "code",
   "execution_count": 1,
   "id": "2e8cd3eb-f762-4621-a618-e84f9140d190",
   "metadata": {},
   "outputs": [
    {
     "name": "stdout",
     "output_type": "stream",
     "text": [
      "Requirement already satisfied: opencv-python in c:\\users\\hp\\anaconda3\\lib\\site-packages (4.10.0.84)\n",
      "Requirement already satisfied: numpy>=1.21.2 in c:\\users\\hp\\anaconda3\\lib\\site-packages (from opencv-python) (1.26.4)\n"
     ]
    }
   ],
   "source": [
    "!pip install opencv-python"
   ]
  },
  {
   "cell_type": "code",
   "execution_count": 2,
   "id": "b312f5a7-ab7e-4e05-af0e-f0b6d1d31e0c",
   "metadata": {},
   "outputs": [],
   "source": [
    "import cv2\n",
    "from PIL import Image\n",
    "import numpy as np\n",
    "import random"
   ]
  },
  {
   "cell_type": "code",
   "execution_count": 3,
   "id": "4b07894c-0c93-4989-8eec-f29a1065407c",
   "metadata": {},
   "outputs": [],
   "source": [
    "def load_image(image_path):\n",
    "    # Using PIL to determine format\n",
    "    img = Image.open(image_path)\n",
    "    print(f\"Image format: {img.format}\")\n",
    "    \n",
    "    # Reading the image using OpenCV\n",
    "    image = cv2.imread(image_path)\n",
    "    return image"
   ]
  },
  {
   "cell_type": "code",
   "execution_count": 4,
   "id": "00561916-388a-4d58-92f2-7f2da221f3a0",
   "metadata": {},
   "outputs": [],
   "source": [
    "def convert_to_grayscale(image):\n",
    "    if len(image.shape) == 3:  # Check if the image is color\n",
    "        grayscale_image = cv2.cvtColor(image, cv2.COLOR_BGR2GRAY)\n",
    "        return grayscale_image\n",
    "    return image "
   ]
  },
  {
   "cell_type": "code",
   "execution_count": 5,
   "id": "7b4348ea-5260-4513-98dd-5f3a54697f32",
   "metadata": {},
   "outputs": [],
   "source": [
    "def resize_image(image, new_width=256, new_height=256):\n",
    "    h, w = image.shape[:2]\n",
    "    aspect_ratio = w / h\n",
    "    if aspect_ratio > 1:\n",
    "        new_height = int(new_width / aspect_ratio)\n",
    "    else:\n",
    "        new_width = int(new_height * aspect_ratio)\n",
    "    \n",
    "    resized_image = cv2.resize(image, (new_width, new_height), interpolation=cv2.INTER_LINEAR)\n",
    "    return resized_image"
   ]
  },
  {
   "cell_type": "code",
   "execution_count": 6,
   "id": "cdc05108-c9f0-4744-9890-a8e678c53e7f",
   "metadata": {},
   "outputs": [],
   "source": [
    "def center_crop(image, crop_ratio=0.9):\n",
    "    h, w = image.shape[:2]\n",
    "\n",
    "    # Crop size based on the image dimensions and the desired ratio\n",
    "    crop_size_h = int(h * crop_ratio)\n",
    "    crop_size_w = int(w * crop_ratio)\n",
    "\n",
    "    # Calculate the start points for cropping to keep the center\n",
    "    start_x = (w - crop_size_w) // 2\n",
    "    start_y = (h - crop_size_h) // 2\n",
    "\n",
    "    # Perform the center crop\n",
    "    cropped_image = image[start_y:start_y+crop_size_h, start_x:start_x+crop_size_w]\n",
    "    return cropped_image\n"
   ]
  },
  {
   "cell_type": "code",
   "execution_count": 7,
   "id": "50e11f89-7bb0-45ef-a764-e3b8fa9e0d41",
   "metadata": {},
   "outputs": [],
   "source": [
    "def random_crop(image, crop_size=200):\n",
    "    h, w = image.shape[:2]\n",
    "    \n",
    "    # Ensure the crop size is not larger than the image dimensions\n",
    "    crop_size = min(crop_size, h, w)\n",
    "    \n",
    "    start_x = random.randint(0, w - crop_size)\n",
    "    start_y = random.randint(0, h - crop_size)\n",
    "    \n",
    "    cropped_image = image[start_y:start_y+crop_size, start_x:start_x+crop_size]\n",
    "    return cropped_image\n"
   ]
  },
  {
   "cell_type": "code",
   "execution_count": 8,
   "id": "106dc0f6-92a4-4110-bab4-ee872201415e",
   "metadata": {},
   "outputs": [],
   "source": [
    "def normalize_image(image):\n",
    "    image = image / 255.0  # Scale pixel values to range [0, 1]\n",
    "    return image"
   ]
  },
  {
   "cell_type": "code",
   "execution_count": 9,
   "id": "2880cdfb-d798-4355-bc90-e34b56d8dd09",
   "metadata": {},
   "outputs": [],
   "source": [
    "def augment_image(image):\n",
    "    # Flip the image horizontally\n",
    "    flipped_image = cv2.flip(image, 1)\n",
    "\n",
    "    # Rotate the image by 45 degrees\n",
    "    (h, w) = image.shape[:2]\n",
    "    center = (w // 2, h // 2)\n",
    "    matrix = cv2.getRotationMatrix2D(center, 45, 1.0)\n",
    "    rotated_image = cv2.warpAffine(image, matrix, (w, h))\n",
    "\n",
    "    # Add Gaussian noise\n",
    "    noise = np.random.normal(0, 0.1, image.shape)\n",
    "    noisy_image = np.clip(image + noise, 0, 1)\n",
    "\n",
    "    return flipped_image, rotated_image, noisy_image"
   ]
  },
  {
   "cell_type": "code",
   "execution_count": 10,
   "id": "2d726aaf-5b00-4ce3-8d0b-84b6f40fdc38",
   "metadata": {},
   "outputs": [],
   "source": [
    "def reduce_noise(image):\n",
    "    denoised_image = cv2.GaussianBlur(image, (5, 5), 0)\n",
    "    return denoised_image"
   ]
  },
  {
   "cell_type": "code",
   "execution_count": 11,
   "id": "e1627ded-b7cb-461c-bee8-bc996e9690d5",
   "metadata": {},
   "outputs": [],
   "source": [
    "def process_image(image_path):\n",
    "    image = load_image(image_path)\n",
    "\n",
    "    # Grayscale conversion\n",
    "    gray_image = convert_to_grayscale(image)\n",
    "\n",
    "    # Resizing\n",
    "    resized_image = resize_image(gray_image)\n",
    "\n",
    "    # Larger center cropping (keeping 90% of the image)\n",
    "    cropped_image = center_crop(resized_image, crop_ratio=0.9)\n",
    "\n",
    "    # Normalization\n",
    "    normalized_image = normalize_image(cropped_image)\n",
    "\n",
    "    # Data augmentation (if needed)\n",
    "    flipped, rotated, noisy = augment_image(normalized_image)\n",
    "\n",
    "    # Noise reduction\n",
    "    denoised_image = reduce_noise(noisy)\n",
    "\n",
    "    return denoised_image\n"
   ]
  },
  {
   "cell_type": "code",
   "execution_count": 12,
   "id": "20a3d857-73d5-4080-91b4-1a383e54e69c",
   "metadata": {},
   "outputs": [
    {
     "name": "stdout",
     "output_type": "stream",
     "text": [
      "C:\\Users\\hp\\computer\n"
     ]
    }
   ],
   "source": [
    "import os\n",
    "print(os.getcwd())  # Prints the current working directory\n"
   ]
  },
  {
   "cell_type": "code",
   "execution_count": 13,
   "id": "f28d3265-ae5b-4770-8959-94aab299154a",
   "metadata": {},
   "outputs": [
    {
     "name": "stdout",
     "output_type": "stream",
     "text": [
      "Image format: JPEG\n"
     ]
    }
   ],
   "source": [
    "image_path = 'C:/Users/hp/computer/frame_478.jpg'# Replace with the actual image path\n",
    "output_image = process_image(image_path)"
   ]
  },
  {
   "cell_type": "code",
   "execution_count": 14,
   "id": "fda45c27-136a-4b91-a864-2db9f3c1622c",
   "metadata": {},
   "outputs": [],
   "source": [
    "cv2.imshow('Processed Image', output_image)\n",
    "cv2.waitKey(0)\n",
    "cv2.destroyAllWindows()"
   ]
  },
  {
   "cell_type": "code",
   "execution_count": null,
   "id": "2ed00083-edb0-46c3-8b95-2b5058e024b6",
   "metadata": {},
   "outputs": [],
   "source": []
  }
 ],
 "metadata": {
  "kernelspec": {
   "display_name": "Python 3 (ipykernel)",
   "language": "python",
   "name": "python3"
  },
  "language_info": {
   "codemirror_mode": {
    "name": "ipython",
    "version": 3
   },
   "file_extension": ".py",
   "mimetype": "text/x-python",
   "name": "python",
   "nbconvert_exporter": "python",
   "pygments_lexer": "ipython3",
   "version": "3.12.4"
  }
 },
 "nbformat": 4,
 "nbformat_minor": 5
}
